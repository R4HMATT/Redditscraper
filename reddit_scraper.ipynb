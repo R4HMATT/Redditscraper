{
 "cells": [
  {
   "cell_type": "code",
   "execution_count": 4,
   "metadata": {},
   "outputs": [],
   "source": [
    "import config\n",
    "import requests\n",
    "import praw\n",
    "import pandas as pd"
   ]
  },
  {
   "cell_type": "code",
   "execution_count": 2,
   "metadata": {},
   "outputs": [],
   "source": [
    "user_agent = \"python:ministryofedCSC_redditscraper:v0.0.1 (by rahm)\""
   ]
  },
  {
   "cell_type": "code",
   "execution_count": 3,
   "metadata": {},
   "outputs": [],
   "source": [
    "reddit = praw.Reddit(client_id=config.client_id,\n",
    "                     client_secret=config.client_secret,\n",
    "                     user_agent=user_agent,\n",
    "                    )"
   ]
  },
  {
   "cell_type": "code",
   "execution_count": 35,
   "metadata": {},
   "outputs": [],
   "source": [
    "def extractSubmissionData(rs):\n",
    "    \"\"\"\n",
    "    rs: being a reddit submission type\n",
    "    return: list of attributes from submission\n",
    "    \"\"\"\n",
    "    return [rs.name, rs.title, rs.subreddit.display_name, rs.author.name,\\\n",
    "            rs.score, rs.upvote_ratio, rs.num_comments, rs.selftext,\\\n",
    "            rs.url, rs.created_utc]"
   ]
  },
  {
   "cell_type": "markdown",
   "metadata": {},
   "source": [
    "### Get submissions from Reddit"
   ]
  },
  {
   "cell_type": "code",
   "execution_count": 33,
   "metadata": {},
   "outputs": [
    {
     "name": "stdout",
     "output_type": "stream",
     "text": [
      "e9hsir\n",
      "e8hlj1\n",
      "e8cfvm\n",
      "e8c62b\n",
      "e70pwh\n",
      "e66hng\n",
      "e61i2y\n",
      "e5u67o\n",
      "e2o4t3\n",
      "e2k6bj\n",
      "          id                                              title subreddit  \\\n",
      "0  t3_e9hsir  Ontario staring down a $7-billion bill for edu...   ontario   \n",
      "1  t3_e8hlj1  Provincial spending could fall far short of de...   ontario   \n",
      "2  t3_e8cfvm  Del Duca says he would reverse Ford’s educatio...   ontario   \n",
      "3  t3_e8c62b  11 Lies - Fact-checking the misinformation Edu...   ontario   \n",
      "4  t3_e70pwh  Shout out to the journalist for calling out Ed...   ontario   \n",
      "\n",
      "            author  score  upvote_ratio  num_comments selftext  \\\n",
      "0           bitekr      0          0.18            16            \n",
      "1     GrabbinPills    112          0.97            24            \n",
      "2  thefrankdomenic     42          0.87            15            \n",
      "3     Keyboarddesk    708          0.97           234            \n",
      "4     Keyboarddesk   1192          0.96           394            \n",
      "\n",
      "                                                 url   created_utc  \n",
      "0  https://torontosun.com/news/provincial/govt-sa...  1.576120e+09  \n",
      "1  https://www.cbc.ca/news/canada/toronto/financi...  1.575932e+09  \n",
      "2  https://www.thestar.com/politics/provincial/20...  1.575910e+09  \n",
      "3                    https://v.redd.it/w9a7a4z0pm341  1.575909e+09  \n",
      "4                    https://v.redd.it/g8mx65ixd1341  1.575649e+09  \n",
      "10\n"
     ]
    }
   ],
   "source": [
    "submissionCol = [\"id\", \"title\", \"subreddit\", \"author\",\\\n",
    "                 \"score\", \"upvote_ratio\", \"num_comments\",\\\n",
    "                 \"selftext\", \"url\", \"created_utc\"]\n",
    "submissionsData = []\n",
    "\n",
    "\n",
    "# query parameters\n",
    "subToSearch = 'ontario'\n",
    "sort = 'new'\n",
    "time_filter = 'all'\n",
    "# limit how many reddit posts you want\n",
    "limit = 10\n",
    "# what to search on\n",
    "query = 'title:education'\n",
    "lastSubmission = None\n",
    "while limit > 0:\n",
    "    if limit > 1000:\n",
    "        # max limit is 100, so if larger, set a throttled limit\n",
    "        # and then save the difference\n",
    "        thrLimit = 1000\n",
    "        limit -= 1000\n",
    "    else:\n",
    "        thrLimit = limit\n",
    "        limit -= 1000\n",
    "    \n",
    "    # additional query params that get passed to an internal class\n",
    "    # 'praw.models.ListingGenerator'\n",
    "    queryParams = {}\n",
    "    if lastSubmission:\n",
    "        queryParams.update({\"after\": lastSubmission}) #if lastSubmission != None else pass\n",
    "    \n",
    "    \n",
    "    submissions = reddit.subreddit(subToSearch)\\\n",
    "                    .search(query, sort=sort, time_filter=time_filter,\\\n",
    "                           limit=thrLimit, params=queryParams)\n",
    "    for sub in submissions:\n",
    "        print(sub.id)\n",
    "        attr = extractSubmissionData(sub)\n",
    "        submissionsData.append(attr)\n",
    "        # we can use this last submission id as a starting point for our next batch of submissions\n",
    "        lastSubmission = sub.name\n",
    "\n",
    "        \n",
    "submissionsDf = pd.DataFrame(submissionsData, columns=submissionCol)\n",
    "\n",
    "print(submissionsDf.head())\n",
    "print(len(submissionsDf))\n"
   ]
  },
  {
   "cell_type": "code",
   "execution_count": null,
   "metadata": {},
   "outputs": [],
   "source": [
    "commentsCol = [\"id\", \"subreddit\", \"submission_id\", \"author\",\\\n",
    "              \"body\", \"score\", \"created_utc\", \"conversation_id\"]\n",
    "conversationCol = [\"id\", \"top_parent_id\", \"direct_parent_id\",\\\n",
    "                  \"child_comment_id\"]\n",
    "commentsData = []\n",
    "conversationData = []"
   ]
  },
  {
   "cell_type": "code",
   "execution_count": null,
   "metadata": {},
   "outputs": [],
   "source": []
  },
  {
   "cell_type": "code",
   "execution_count": 32,
   "metadata": {},
   "outputs": [
    {
     "data": {
      "text/plain": [
       "10"
      ]
     },
     "execution_count": 32,
     "metadata": {},
     "output_type": "execute_result"
    }
   ],
   "source": [
    "from collections import deque\n",
    "\n",
    "def getReplyData(comment, top_level_id):\n",
    "    \"\"\"\n",
    "    comment: redditComment object\n",
    "    top_level_id: id of the top level comment\n",
    "    return: list of tuples. tuple[0] is the commentData\n",
    "            tuple[1] is the conversation data\n",
    "    \"\"\"\n",
    "    commentData = []\n",
    "    t\n",
    "def getCommentsFromSubmission(subm_id, top_level_id=None)\n",
    "    \"\"\"\n",
    "    subm_id: submission id\n",
    "    Return: list of comment objects from given submisison\n",
    "    \"\"\"\n",
    "    # we do this indexing subm_id[2:] because subm_id is\n",
    "    # the full id of a submission, of the form t2_xxxxx\"\n",
    "    # this reddit.submission method doesnt require the prefix t2_\n",
    "    subm = reddit.submission(id=subm_id[2:])\n",
    "\n",
    "    # get rid of 'MoreComments' instances\n",
    "    subm.comments.replace_more(limit=None)\n",
    "    # top level comments added to deque datastructure\n",
    "    \n",
    "    #comments = deque(subm.comments[:])\n",
    "    comments = subm.comments\n",
    "\n",
    "\n",
    "    convo_id = 0\n",
    "\n",
    "#     while len(comments) > 0:\n",
    "    for com in comments:\n",
    "        #com = comments.pop\n",
    "        comment_data = [com.name, com.subreddit.display_name, subm_id,\\\n",
    "                com.author.name, com.body, com.score,\\\n",
    "                convo_id, com.created_utc]\n",
    "        \n",
    "        if top_level_id == None:\n",
    "            conversation_data = \\[convo_id, ]\n",
    "            \n",
    "        top_level_id = com.name if top_level_id != None\n",
    "        \n",
    "        convo_data = [convo_id, ]\n",
    "        \n",
    "    \n",
    "    "
   ]
  },
  {
   "cell_type": "code",
   "execution_count": null,
   "metadata": {},
   "outputs": [],
   "source": []
  }
 ],
 "metadata": {
  "kernelspec": {
   "display_name": "Python 3",
   "language": "python",
   "name": "python3"
  },
  "language_info": {
   "codemirror_mode": {
    "name": "ipython",
    "version": 3
   },
   "file_extension": ".py",
   "mimetype": "text/x-python",
   "name": "python",
   "nbconvert_exporter": "python",
   "pygments_lexer": "ipython3",
   "version": "3.7.1"
  }
 },
 "nbformat": 4,
 "nbformat_minor": 2
}
