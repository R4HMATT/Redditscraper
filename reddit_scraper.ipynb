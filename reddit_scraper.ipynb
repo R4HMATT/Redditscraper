{
 "cells": [
  {
   "cell_type": "code",
   "execution_count": null,
   "metadata": {},
   "outputs": [],
   "source": [
    "import config\n",
    "import requests\n",
    "import praw\n",
    "import pandas as pd\n",
    "import pprint"
   ]
  },
  {
   "cell_type": "code",
   "execution_count": null,
   "metadata": {},
   "outputs": [],
   "source": [
    "user_agent = \"python:ministryofedCSC_redditscraper:v0.0.1 (by rahm)\""
   ]
  },
  {
   "cell_type": "code",
   "execution_count": null,
   "metadata": {},
   "outputs": [],
   "source": [
    "reddit = praw.Reddit(client_id=config.client_id,\n",
    "                     client_secret=config.client_secret,\n",
    "                     user_agent=user_agent,\n",
    "                    )"
   ]
  },
  {
   "cell_type": "code",
   "execution_count": null,
   "metadata": {},
   "outputs": [],
   "source": [
    "def extractSubmissionData(rs):\n",
    "    \"\"\"\n",
    "    rs: being a reddit submission type\n",
    "    return: list of attributes from submission\n",
    "    \"\"\"\n",
    "    \n",
    "    author_name = \"[deleted]\" if rs.author is None else rs.author.name\n",
    "    \n",
    "    return [rs.id, rs.title, rs.subreddit.display_name, author_name,\\\n",
    "            rs.score, rs.upvote_ratio, rs.num_comments, rs.selftext,\\\n",
    "            rs.url, rs.created_utc]"
   ]
  },
  {
   "cell_type": "code",
   "execution_count": null,
   "metadata": {},
   "outputs": [],
   "source": [
    "submissionsCol = [\"id\", \"title\", \"subreddit\", \"author\",\\\n",
    "                 \"score\", \"upvote_ratio\", \"num_comments\",\\\n",
    "                 \"selftext\", \"url\", \"created_utc\"]\n",
    "totalSubmissionsData = pd.DataFrame([], columns=submissionsCol)\n"
   ]
  },
  {
   "cell_type": "markdown",
   "metadata": {},
   "source": [
    "### Get submissions from Reddit"
   ]
  },
  {
   "cell_type": "code",
   "execution_count": null,
   "metadata": {},
   "outputs": [],
   "source": [
    "# query parameters\n",
    "subToSearch = 'ontario'\n",
    "sort = 'new'\n",
    "time_filter = 'all'\n",
    "# limit how many reddit posts you want\n",
    "limit = 50\n",
    "# what to search on\n",
    "#query = 'title:education'\n",
    "query = ''\n",
    "\n",
    "\n",
    "#pd.DataFrame([], columns=submissionsCol)\n",
    "\n",
    "def getSubmissions(subToSearch, query='', sort='new', time_filter='all', numSubmissions=30):\n",
    "    \"\"\"\n",
    "    this function will get submissions/posts from reddits (not comments) according to the\n",
    "    input parameters, and return attributes of each submission.\n",
    "    \n",
    "    subToSearch (string): the subreddit to get submissions from\n",
    "    query (string): any properly formatted reddit query, see: https://www.reddit.com/wiki/search\n",
    "    sort (string): a set of discrete filters that determines which submissions to get. Options\n",
    "    change depending on if a query is being set or not.\n",
    "                   if query is empty/None: {'new', 'hot', 'top', 'rising'}\n",
    "                   if query is entered: {'new', 'hot', 'top', 'rising', 'relevance'}\n",
    "                   Default is 'new'\n",
    "                   \n",
    "    time_filter (string): discrete set of filters that limit the time period submissions\n",
    "                          will be retrieved from.\n",
    "                          options: {'all', 'day', 'hour', 'month', 'week', 'year'}\n",
    "    numSubmissions (int): the number of submissions you want to retrieve. Note, function will try\n",
    "                          to return numSubmissions amount of submissions, but may not be possible\n",
    "                          due to submission filtering from input parameters.\n",
    "\n",
    "    returns (list of lists)\n",
    "    \"\"\"\n",
    "\n",
    "    # redditMaxLimit is a constant defined as the total number of submissions that a single reddit api call can retrieve\n",
    "    # its value is 1000 according to the documentation.\n",
    "    # this shouldnt be changed unless the reddit api itself is updated\n",
    "    redditMaxLimit = 1000\n",
    "\n",
    "    submissionsData = []\n",
    "\n",
    "    queryParams = {}\n",
    "    # throttled limit\n",
    "    thrLimit = min(numSubmissions, redditMaxLimit)\n",
    "    \n",
    "\n",
    "    if query is None or query == '':\n",
    "        if sort == 'new':\n",
    "            submissions = reddit.subreddit(subToSearch).new(limit=thrLimit)\n",
    "        elif sort == 'hot':\n",
    "            submissions = reddit.subreddit(subToSearch).hot(limit=thrLimit)\n",
    "        elif sort == 'top':\n",
    "            submissions = reddit.subreddit(subToSearch).top(limit=thrLimit)\n",
    "        elif sort == 'rising':\n",
    "            submissions = reddit.subreddit(subToSearch).rising(limit=thrLimit)\n",
    "        else:\n",
    "            # sorts by new by default\n",
    "            submissions = reddit.subreddit(subToSearch).new(limit=thrLimit)\n",
    "\n",
    "    else:\n",
    "\n",
    "        submissions = reddit.subreddit(subToSearch)\\\n",
    "                    .search(query, sort=sort, time_filter=time_filter,\\\n",
    "                           limit=thrLimit)\n",
    "\n",
    "\n",
    "    i = 0\n",
    "    for sub in submissions:\n",
    "        print(sub.id)\n",
    "        print(sub.title)\n",
    "        attrs = extractSubmissionData(sub)\n",
    "        submissionsData.append(attrs)\n",
    "        i+= 1\n",
    "        print(i)\n",
    "\n",
    "    return submissionsData\n",
    "        "
   ]
  },
  {
   "cell_type": "markdown",
   "metadata": {},
   "source": [
    "### Loop over all the subreddits in list and collect data from their submissions"
   ]
  },
  {
   "cell_type": "code",
   "execution_count": null,
   "metadata": {
    "scrolled": true
   },
   "outputs": [],
   "source": [
    "subreddits = ['ontario', 'education']\n",
    "submissions = []\n",
    "for sr in subreddits:\n",
    "    submissions += getSubmissions(sr, query='education', sort='new', time_filter='all', numSubmissions=5)"
   ]
  },
  {
   "cell_type": "code",
   "execution_count": null,
   "metadata": {},
   "outputs": [],
   "source": [
    "totalSubmissionsData = pd.DataFrame(submissions, columns=submissionsCol)"
   ]
  },
  {
   "cell_type": "code",
   "execution_count": null,
   "metadata": {},
   "outputs": [],
   "source": [
    "\n",
    "\n",
    "print(f\"total number of submissions collected: {len(totalSubmissionsData)}\")\n",
    "totalSubmissionsData.head()"
   ]
  },
  {
   "cell_type": "code",
   "execution_count": null,
   "metadata": {},
   "outputs": [],
   "source": [
    "commentsCol = [\"id\", \"subreddit\", \"submission_id\", \"author\",\\\n",
    "              \"body\", \"score\", \"conversation_id\", \"created_utc\"]\n",
    "conversationCol = [\"id\", \"top_parent_id\", \"direct_parent_id\",\\\n",
    "                  \"child_comment_id\"]\n"
   ]
  },
  {
   "cell_type": "code",
   "execution_count": null,
   "metadata": {},
   "outputs": [],
   "source": [
    "from collections import deque\n",
    "\n",
    "def getReplyData(cf, top_level_id, convo_id):\n",
    "    \"\"\"\n",
    "    comment: commentForest Object\n",
    "    top_level_id: id of the top level comment\n",
    "    return: tuple of list of lists: (list_a, list_b), where lista\n",
    "            is a list of commentData, and listb is a list of convoData\n",
    "    \"\"\"\n",
    "    cf.replace_more(limit=None)\n",
    "    commentData = []\n",
    "    convoData = []\n",
    "    \n",
    "    for com in list(cf):\n",
    "        # in case post is deleted, author will be Nonetype\n",
    "        author_name = \"[deleted]\" if com.author is None else com.author.name\n",
    "        \n",
    "        commentData.append([com.id, com.subreddit.display_name, com.submission.id,\\\n",
    "                            author_name, com.body, com.score,\\\n",
    "                            convo_id, com.created_utc])\n",
    "        \n",
    "        convoData.append([convo_id, top_level_id, com.parent_id, com.id])\n",
    "        \n",
    "        # according to documentation, need to call refresh before accessing reply info\n",
    "        com.refresh()\n",
    "        \n",
    "        replyCommentData, replyConvoData = getReplyData(com.replies, top_level_id, convo_id)\n",
    "        \n",
    "        commentData += replyCommentData\n",
    "        convoData += replyConvoData\n",
    "        \n",
    "    return (commentData, convoData)\n",
    "    \n",
    "def getCommentsFromSubmission(subm_id):\n",
    "    \"\"\"\n",
    "    subm_id: submission id\n",
    "    Return: list of comment objects from given submisison\n",
    "    \"\"\"\n",
    "    commentData = []\n",
    "    convoData = []\n",
    "\n",
    "    subm = reddit.submission(id=subm_id)\n",
    "    print(subm.title)\n",
    "    \n",
    "    # get rid of 'MoreComments' instances\n",
    "    subm.comments.replace_more(limit=None)\n",
    "    \n",
    "    comments = subm.comments\n",
    "\n",
    "\n",
    "    convo_id = 0\n",
    "\n",
    "#     while len(comments) > 0:\n",
    "    for com in comments:\n",
    "        #com = comments.pop\n",
    "        author_name = \"[deleted]\" if com.author is None else com.author.name\n",
    "\n",
    "        commentData.append([com.id, com.subreddit.display_name, subm_id,\\\n",
    "                author_name, com.body, com.score,\\\n",
    "                convo_id, com.created_utc])\n",
    "        \n",
    "        convoData.append([convo_id, None, None, com.id])\n",
    "        \n",
    "#         if top_level_id == None:\n",
    "#             conversation_data = \\[convo_id, ]\n",
    "\n",
    "#         top_level_id = com.name if top_level_id != None\n",
    "        top_level_id = com.name\n",
    "        \n",
    "        com.refresh()\n",
    "        replyCommentData, replyConvoData = getReplyData(com.replies, top_level_id, convo_id)\n",
    "        \n",
    "        commentData += replyCommentData\n",
    "        convoData += replyConvoData\n",
    "      \n",
    "        convo_id += 1\n",
    "    \n",
    "    return (commentData, convoData)"
   ]
  },
  {
   "cell_type": "markdown",
   "metadata": {},
   "source": [
    "### Iterate over all the previously collected submissions and get their comments"
   ]
  },
  {
   "cell_type": "code",
   "execution_count": null,
   "metadata": {
    "scrolled": false
   },
   "outputs": [],
   "source": [
    "commentData = []\n",
    "conversationData = []\n",
    "for i, row in totalSubmissionsData.iterrows():\n",
    "    subm_id = row.id\n",
    "    comments, convo = getCommentsFromSubmission(subm_id)\n",
    "    commentData += comments\n",
    "    conversationData += convo  "
   ]
  },
  {
   "cell_type": "markdown",
   "metadata": {},
   "source": [
    "### Form the actual data frame"
   ]
  },
  {
   "cell_type": "code",
   "execution_count": null,
   "metadata": {},
   "outputs": [],
   "source": [
    "commentsDataDf = pd.DataFrame(commentData, columns = commentsCol)\n",
    "conversationDataDf = pd.DataFrame(conversationData, columns = conversationCol)"
   ]
  },
  {
   "cell_type": "code",
   "execution_count": null,
   "metadata": {},
   "outputs": [],
   "source": [
    "commentData"
   ]
  },
  {
   "cell_type": "code",
   "execution_count": null,
   "metadata": {},
   "outputs": [],
   "source": [
    "print(len(commentsDataDf))\n",
    "print(len(conversationDataDf))"
   ]
  },
  {
   "cell_type": "code",
   "execution_count": null,
   "metadata": {},
   "outputs": [],
   "source": [
    "commentsDataDf.head()"
   ]
  },
  {
   "cell_type": "code",
   "execution_count": null,
   "metadata": {},
   "outputs": [],
   "source": []
  }
 ],
 "metadata": {
  "kernelspec": {
   "display_name": "Python 3",
   "language": "python",
   "name": "python3"
  },
  "language_info": {
   "codemirror_mode": {
    "name": "ipython",
    "version": 3
   },
   "file_extension": ".py",
   "mimetype": "text/x-python",
   "name": "python",
   "nbconvert_exporter": "python",
   "pygments_lexer": "ipython3",
   "version": "3.7.3"
  }
 },
 "nbformat": 4,
 "nbformat_minor": 2
}
