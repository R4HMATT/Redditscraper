{
 "cells": [
  {
   "cell_type": "markdown",
   "metadata": {},
   "source": [
    "### config.py contains the client id and app secret. Ensure the values in this file are correct\n",
    "### praw is just a reddit api wrapper for python"
   ]
  },
  {
   "cell_type": "code",
   "execution_count": null,
   "metadata": {},
   "outputs": [],
   "source": [
    "import config\n",
    "import requests\n",
    "import praw"
   ]
  },
  {
   "cell_type": "code",
   "execution_count": null,
   "metadata": {},
   "outputs": [],
   "source": [
    "user_agent = \"python:ministryofedCSC_redditscraper:v0.0.1 (by rahm)\""
   ]
  },
  {
   "cell_type": "code",
   "execution_count": null,
   "metadata": {},
   "outputs": [],
   "source": [
    "reddit = praw.Reddit(client_id=config.client_id,\n",
    "                     client_secret=config.client_secret,\n",
    "                     user_agent=user_agent,\n",
    "                    )"
   ]
  },
  {
   "cell_type": "code",
   "execution_count": null,
   "metadata": {},
   "outputs": [],
   "source": [
    "print(reddit.read_only)"
   ]
  },
  {
   "cell_type": "markdown",
   "metadata": {},
   "source": [
    "### get subreddits to search can be done here. for now just making a short list for demo purposes"
   ]
  },
  {
   "cell_type": "code",
   "execution_count": null,
   "metadata": {},
   "outputs": [],
   "source": [
    "subredditsToSearch = ['ontario', 'education']"
   ]
  },
  {
   "cell_type": "code",
   "execution_count": null,
   "metadata": {},
   "outputs": [],
   "source": [
    "# TODO\n",
    "# this function is an attempt to get around the 1000 limit\n",
    "def getNewSubmissions(subToSearch, limit):\n",
    "    if limit > 100:\n",
    "        # max limit is 100, so if larger, set a throttled limit and then save the difference\n",
    "        thrLimit = 100\n",
    "        limit = limit - 100\n",
    "    else:\n",
    "        thrLim = limit\n",
    "    submissions = reddit.subreddit(subToSearch).new(limit=thrLim)\n",
    "    for i in range(len(submissions)):\n",
    "        sub = submissions[i]\n",
    "        print(sub.title)\n",
    "        yield sub\n",
    "        # if this is the last iteration of the loop, we save the id of this last submission\n",
    "        # we can use this last submission id as a starting point for our next batch of submissions\n",
    "        if i == len(submissions):\n",
    "            pass"
   ]
  },
  {
   "cell_type": "markdown",
   "metadata": {},
   "source": [
    "## getting 1000 newest submissions for subreddits"
   ]
  },
  {
   "cell_type": "code",
   "execution_count": null,
   "metadata": {},
   "outputs": [],
   "source": [
    "def getThousandSubmissions(subreddit):\n",
    "    submissions = reddit.subreddit(subreddit).top(limit=1000)\n",
    "    return submissions"
   ]
  },
  {
   "cell_type": "code",
   "execution_count": null,
   "metadata": {},
   "outputs": [],
   "source": [
    "for subreddit in subredditsToSearch:\n",
    "    submissions = getThousandSubmissions(subreddit)\n",
    "    print(subreddit)\n",
    "    print(\"=======================\")\n",
    "    i = 0\n",
    "    for s in submissions:\n",
    "        print(f\"{i}.\", s.title)\n",
    "        # truncating a bit\n",
    "        if i == 50:\n",
    "            break\n",
    "        i += 1"
   ]
  },
  {
   "cell_type": "markdown",
   "metadata": {},
   "source": [
    "## get the comments from a submission"
   ]
  },
  {
   "cell_type": "code",
   "execution_count": null,
   "metadata": {},
   "outputs": [],
   "source": [
    "# call this on a subreddit and it will continuously call replace_more\n",
    "def flattenComments(submission):\n",
    "    x = submission.comments\n",
    "    while True:\n",
    "        try:\n",
    "            x.replace_more(limit=None)\n",
    "            break\n",
    "        except PossibleExceptions:\n",
    "            print('Handling replace_more exception')\n",
    "            sleep(1)\n",
    "    return x.list()"
   ]
  },
  {
   "cell_type": "code",
   "execution_count": null,
   "metadata": {},
   "outputs": [],
   "source": [
    "submissions = getThousandSubmissions('ontario')\n",
    "for s in submissions:\n",
    "    print(f\"Submission title: {s.title}\")\n",
    "    # just want to test this on one submission\n",
    "    flattenComments(s)\n",
    "    allComments = s.comments.list()\n",
    "    #print(allComments)\n",
    "    for i in range(len(allComments)):\n",
    "        comment = allComments[i]\n",
    "        if isinstance(comment, praw.models.MoreComments):\n",
    "            continue\n",
    "            #comment.replace_more(limit=None)\n",
    "        print(\"==========================================\")\n",
    "        print(f\"{comment.author} said: {comment.body}\")\n",
    "        #truncating a bit\n",
    "        if i == 50:\n",
    "            break\n",
    "    # only want to print 1 submission's comments for now\n",
    "    break"
   ]
  },
  {
   "cell_type": "code",
   "execution_count": null,
   "metadata": {},
   "outputs": [],
   "source": []
  }
 ],
 "metadata": {
  "kernelspec": {
   "display_name": "Python 3",
   "language": "python",
   "name": "python3"
  },
  "language_info": {
   "codemirror_mode": {
    "name": "ipython",
    "version": 3
   },
   "file_extension": ".py",
   "mimetype": "text/x-python",
   "name": "python",
   "nbconvert_exporter": "python",
   "pygments_lexer": "ipython3",
   "version": "3.7.3"
  }
 },
 "nbformat": 4,
 "nbformat_minor": 2
}
